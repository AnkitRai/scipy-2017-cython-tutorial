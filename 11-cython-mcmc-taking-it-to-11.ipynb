{
 "cells": [
  {
   "cell_type": "code",
   "execution_count": 9,
   "metadata": {},
   "outputs": [
    {
     "name": "stdout",
     "output_type": "stream",
     "text": [
      "Compiling ./srs/mt19937.pyx because it depends on srs/bounded_integers.pxi.\n",
      "[1/1] Cythonizing ./srs/mt19937.pyx\n",
      "running develop\n",
      "running egg_info\n",
      "writing srs.egg-info/PKG-INFO\n",
      "writing dependency_links to srs.egg-info/dependency_links.txt\n",
      "writing top-level names to srs.egg-info/top_level.txt\n",
      "reading manifest file 'srs.egg-info/SOURCES.txt'\n",
      "reading manifest template 'MANIFEST.in'\n",
      "writing manifest file 'srs.egg-info/SOURCES.txt'\n",
      "running build_ext\n",
      "building 'srs.mt19937' extension\n",
      "gcc -pthread -Wno-unused-result -Wsign-compare -DNDEBUG -g -fwrapv -O3 -Wall -Wstrict-prototypes -fPIC -DRS_RANDOMKIT=1 -I./srs -I/opt/conda/lib/python3.6/site-packages/numpy/core/include -I./srs/src/random-kit -I/opt/conda/include/python3.6m -c ./srs/mt19937.c -o build/temp.linux-x86_64-3.6/./srs/mt19937.o -std=c99 -msse2\n",
      "gcc -pthread -Wno-unused-result -Wsign-compare -DNDEBUG -g -fwrapv -O3 -Wall -Wstrict-prototypes -fPIC -DRS_RANDOMKIT=1 -I./srs -I/opt/conda/lib/python3.6/site-packages/numpy/core/include -I./srs/src/random-kit -I/opt/conda/include/python3.6m -c ./srs/distributions.c -o build/temp.linux-x86_64-3.6/./srs/distributions.o -std=c99 -msse2\n",
      "gcc -pthread -Wno-unused-result -Wsign-compare -DNDEBUG -g -fwrapv -O3 -Wall -Wstrict-prototypes -fPIC -DRS_RANDOMKIT=1 -I./srs -I/opt/conda/lib/python3.6/site-packages/numpy/core/include -I./srs/src/random-kit -I/opt/conda/include/python3.6m -c ./srs/aligned_malloc.c -o build/temp.linux-x86_64-3.6/./srs/aligned_malloc.o -std=c99 -msse2\n",
      "gcc -pthread -Wno-unused-result -Wsign-compare -DNDEBUG -g -fwrapv -O3 -Wall -Wstrict-prototypes -fPIC -DRS_RANDOMKIT=1 -I./srs -I/opt/conda/lib/python3.6/site-packages/numpy/core/include -I./srs/src/random-kit -I/opt/conda/include/python3.6m -c ./srs/src/random-kit/random-kit.c -o build/temp.linux-x86_64-3.6/./srs/src/random-kit/random-kit.o -std=c99 -msse2\n",
      "gcc -pthread -Wno-unused-result -Wsign-compare -DNDEBUG -g -fwrapv -O3 -Wall -Wstrict-prototypes -fPIC -DRS_RANDOMKIT=1 -I./srs -I/opt/conda/lib/python3.6/site-packages/numpy/core/include -I./srs/src/random-kit -I/opt/conda/include/python3.6m -c ./srs/interface/random-kit/random-kit-shim.c -o build/temp.linux-x86_64-3.6/./srs/interface/random-kit/random-kit-shim.o -std=c99 -msse2\n",
      "gcc -pthread -shared -L/opt/conda/lib -Wl,-rpath=/opt/conda/lib,--no-as-needed -L/opt/conda/lib -Wl,-rpath=/opt/conda/lib,--no-as-needed build/temp.linux-x86_64-3.6/./srs/mt19937.o build/temp.linux-x86_64-3.6/./srs/distributions.o build/temp.linux-x86_64-3.6/./srs/aligned_malloc.o build/temp.linux-x86_64-3.6/./srs/src/random-kit/random-kit.o build/temp.linux-x86_64-3.6/./srs/interface/random-kit/random-kit-shim.o -L/opt/conda/lib -lpython3.6m -o build/lib.linux-x86_64-3.6/srs/mt19937.cpython-36m-x86_64-linux-gnu.so\n",
      "copying build/lib.linux-x86_64-3.6/srs/mt19937.cpython-36m-x86_64-linux-gnu.so -> ./srs\n",
      "Creating /opt/conda/lib/python3.6/site-packages/srs.egg-link (link to .)\n",
      "Removing srs 0+untagged.17.g692c669.dirty from easy-install.pth file\n",
      "Adding srs 0+untagged.17.g692c669.dirty to easy-install.pth file\n",
      "\n",
      "Installed /home/jovyan/mt19937\n",
      "Processing dependencies for srs==0+untagged.17.g692c669.dirty\n",
      "Finished processing dependencies for srs==0+untagged.17.g692c669.dirty\n"
     ]
    },
    {
     "name": "stderr",
     "output_type": "stream",
     "text": [
      "warning: no previously-included files found matching 'srs/entropy.c'\n",
      "warning: no previously-included files found matching 'srs/dsfmt*'\n",
      "warning: no previously-included files found matching 'srs/mlfg_1279_861*'\n",
      "warning: no previously-included files found matching 'srs/pcg32*'\n",
      "warning: no previously-included files found matching 'srs/pcg64*'\n",
      "warning: no previously-included files found matching 'srs/xorshift128*'\n",
      "warning: no previously-included files found matching 'srs/xorshift1024*'\n",
      "In file included from /opt/conda/lib/python3.6/site-packages/numpy/core/include/numpy/ndarraytypes.h:1788:0,\n",
      "                 from /opt/conda/lib/python3.6/site-packages/numpy/core/include/numpy/ndarrayobject.h:18,\n",
      "                 from /opt/conda/lib/python3.6/site-packages/numpy/core/include/numpy/arrayobject.h:4,\n",
      "                 from ./srs/mt19937.c:465:\n",
      "/opt/conda/lib/python3.6/site-packages/numpy/core/include/numpy/npy_1_7_deprecated_api.h:15:2: warning: #warning \"Using deprecated NumPy API, disable it by \" \"#defining NPY_NO_DEPRECATED_API NPY_1_7_API_VERSION\" [-Wcpp]\n",
      " #warning \"Using deprecated NumPy API, disable it by \" \\\n",
      "  ^\n",
      "./srs/mt19937.c:15130:18: warning: ‘__pyx_f_3srs_7mt19937_float_fill_from_double’ defined but not used [-Wunused-function]\n",
      " static PyObject *__pyx_f_3srs_7mt19937_float_fill_from_double(aug_state *__pyx_v_state, void *__pyx_v_func, PyObject *__pyx_v_size, PyObject *__pyx_v_lock) {\n",
      "                  ^\n",
      "./srs/distributions.c: In function ‘gauss_zig_julia’:\n",
      "./srs/distributions.c:105:18: warning: comparison between signed and unsigned integer expressions [-Wsign-compare]\n",
      "         if (rabs < ki[idx])\n",
      "                  ^\n",
      "./srs/distributions.c: In function ‘gauss_zig_double’:\n",
      "./srs/distributions.c:144:18: warning: comparison between signed and unsigned integer expressions [-Wsign-compare]\n",
      "         if (rabs < ki_double[idx])\n",
      "                  ^\n",
      "./srs/distributions.c: In function ‘gauss_zig_float’:\n",
      "./srs/distributions.c:181:18: warning: comparison between signed and unsigned integer expressions [-Wsign-compare]\n",
      "         if (rabs < ki_float[idx])\n",
      "                  ^\n"
     ]
    }
   ],
   "source": [
    "%%bash\n",
    "cd ./mt19937\n",
    "python ./setup.py develop"
   ]
  },
  {
   "cell_type": "code",
   "execution_count": 10,
   "metadata": {},
   "outputs": [
    {
     "name": "stdout",
     "output_type": "stream",
     "text": [
      "Warning: Multiple cython sources found for extension 'cython_mcmc.mcmc': ['cython_mcmc/mcmc.pyx', '../mt19937/srs/mt19937.pyx']\n",
      "See http://cython.readthedocs.io/en/latest/src/userguide/sharing_declarations.html for sharing declarations among Cython files.\n",
      "running develop\n",
      "running egg_info\n",
      "writing cython_mcmc.egg-info/PKG-INFO\n",
      "writing dependency_links to cython_mcmc.egg-info/dependency_links.txt\n",
      "writing top-level names to cython_mcmc.egg-info/top_level.txt\n",
      "reading manifest file 'cython_mcmc.egg-info/SOURCES.txt'\n",
      "writing manifest file 'cython_mcmc.egg-info/SOURCES.txt'\n",
      "running build_ext\n",
      "building 'cython_mcmc.mcmc' extension\n",
      "gcc -pthread -Wno-unused-result -Wsign-compare -DNDEBUG -g -fwrapv -O3 -Wall -Wstrict-prototypes -fPIC -I/opt/conda/lib/python3.6/site-packages/numpy/core/include -I../mt19937/srs -I/opt/conda/include/python3.6m -c cython_mcmc/mcmc.c -o build/temp.linux-x86_64-3.6/cython_mcmc/mcmc.o\n",
      "gcc -pthread -Wno-unused-result -Wsign-compare -DNDEBUG -g -fwrapv -O3 -Wall -Wstrict-prototypes -fPIC -I/opt/conda/lib/python3.6/site-packages/numpy/core/include -I../mt19937/srs -I/opt/conda/include/python3.6m -c ../mt19937/srs/mt19937.c -o build/temp.linux-x86_64-3.6/../mt19937/srs/mt19937.o\n",
      "gcc -pthread -Wno-unused-result -Wsign-compare -DNDEBUG -g -fwrapv -O3 -Wall -Wstrict-prototypes -fPIC -I/opt/conda/lib/python3.6/site-packages/numpy/core/include -I../mt19937/srs -I/opt/conda/include/python3.6m -c ../mt19937/srs/distributions.c -o build/temp.linux-x86_64-3.6/../mt19937/srs/distributions.o\n",
      "gcc -pthread -Wno-unused-result -Wsign-compare -DNDEBUG -g -fwrapv -O3 -Wall -Wstrict-prototypes -fPIC -I/opt/conda/lib/python3.6/site-packages/numpy/core/include -I../mt19937/srs -I/opt/conda/include/python3.6m -c ../mt19937/srs/aligned_malloc.c -o build/temp.linux-x86_64-3.6/../mt19937/srs/aligned_malloc.o\n",
      "gcc -pthread -Wno-unused-result -Wsign-compare -DNDEBUG -g -fwrapv -O3 -Wall -Wstrict-prototypes -fPIC -I/opt/conda/lib/python3.6/site-packages/numpy/core/include -I../mt19937/srs -I/opt/conda/include/python3.6m -c ../mt19937/srs/src/random-kit/random-kit.c -o build/temp.linux-x86_64-3.6/../mt19937/srs/src/random-kit/random-kit.o\n",
      "gcc -pthread -Wno-unused-result -Wsign-compare -DNDEBUG -g -fwrapv -O3 -Wall -Wstrict-prototypes -fPIC -I/opt/conda/lib/python3.6/site-packages/numpy/core/include -I../mt19937/srs -I/opt/conda/include/python3.6m -c ../mt19937/srs/interface/random-kit/random-kit-shim.c -o build/temp.linux-x86_64-3.6/../mt19937/srs/interface/random-kit/random-kit-shim.o\n",
      "gcc -pthread -shared -L/opt/conda/lib -Wl,-rpath=/opt/conda/lib,--no-as-needed -L/opt/conda/lib -Wl,-rpath=/opt/conda/lib,--no-as-needed build/temp.linux-x86_64-3.6/cython_mcmc/mcmc.o build/temp.linux-x86_64-3.6/../mt19937/srs/mt19937.o build/temp.linux-x86_64-3.6/../mt19937/srs/distributions.o build/temp.linux-x86_64-3.6/../mt19937/srs/aligned_malloc.o build/temp.linux-x86_64-3.6/../mt19937/srs/src/random-kit/random-kit.o build/temp.linux-x86_64-3.6/../mt19937/srs/interface/random-kit/random-kit-shim.o -L/opt/conda/lib -lpython3.6m -o build/lib.linux-x86_64-3.6/cython_mcmc/mcmc.cpython-36m-x86_64-linux-gnu.so\n",
      "copying build/lib.linux-x86_64-3.6/cython_mcmc/mcmc.cpython-36m-x86_64-linux-gnu.so -> cython_mcmc\n",
      "Creating /opt/conda/lib/python3.6/site-packages/cython-mcmc.egg-link (link to .)\n",
      "cython-mcmc 0.0.0 is already the active version in easy-install.pth\n",
      "\n",
      "Installed /home/jovyan/cython_mcmc\n",
      "Processing dependencies for cython-mcmc==0.0.0\n",
      "Finished processing dependencies for cython-mcmc==0.0.0\n"
     ]
    },
    {
     "name": "stderr",
     "output_type": "stream",
     "text": [
      "In file included from /opt/conda/lib/python3.6/site-packages/numpy/core/include/numpy/ndarraytypes.h:1788:0,\n",
      "                 from /opt/conda/lib/python3.6/site-packages/numpy/core/include/numpy/ndarrayobject.h:18,\n",
      "                 from /opt/conda/lib/python3.6/site-packages/numpy/core/include/numpy/arrayobject.h:4,\n",
      "                 from cython_mcmc/mcmc.c:453:\n",
      "/opt/conda/lib/python3.6/site-packages/numpy/core/include/numpy/npy_1_7_deprecated_api.h:15:2: warning: #warning \"Using deprecated NumPy API, disable it by \" \"#defining NPY_NO_DEPRECATED_API NPY_1_7_API_VERSION\" [-Wcpp]\n",
      " #warning \"Using deprecated NumPy API, disable it by \" \\\n",
      "  ^\n",
      "cython_mcmc/mcmc.c:2024:15: warning: ‘__pyx_f_11cython_mcmc_4mcmc_sample_norm’ defined but not used [-Wunused-function]\n",
      " static double __pyx_f_11cython_mcmc_4mcmc_sample_norm(double __pyx_v_mu, double __pyx_v_sigma) {\n",
      "               ^\n",
      "In file included from /opt/conda/lib/python3.6/site-packages/numpy/core/include/numpy/ndarraytypes.h:1788:0,\n",
      "                 from /opt/conda/lib/python3.6/site-packages/numpy/core/include/numpy/ndarrayobject.h:18,\n",
      "                 from /opt/conda/lib/python3.6/site-packages/numpy/core/include/numpy/arrayobject.h:4,\n",
      "                 from ../mt19937/srs/mt19937.c:465:\n",
      "/opt/conda/lib/python3.6/site-packages/numpy/core/include/numpy/npy_1_7_deprecated_api.h:15:2: warning: #warning \"Using deprecated NumPy API, disable it by \" \"#defining NPY_NO_DEPRECATED_API NPY_1_7_API_VERSION\" [-Wcpp]\n",
      " #warning \"Using deprecated NumPy API, disable it by \" \\\n",
      "  ^\n",
      "../mt19937/srs/mt19937.c:15130:18: warning: ‘__pyx_f_3srs_7mt19937_float_fill_from_double’ defined but not used [-Wunused-function]\n",
      " static PyObject *__pyx_f_3srs_7mt19937_float_fill_from_double(aug_state *__pyx_v_state, void *__pyx_v_func, PyObject *__pyx_v_size, PyObject *__pyx_v_lock) {\n",
      "                  ^\n",
      "../mt19937/srs/distributions.c: In function ‘gauss_zig_julia’:\n",
      "../mt19937/srs/distributions.c:105:18: warning: comparison between signed and unsigned integer expressions [-Wsign-compare]\n",
      "         if (rabs < ki[idx])\n",
      "                  ^\n",
      "../mt19937/srs/distributions.c: In function ‘gauss_zig_double’:\n",
      "../mt19937/srs/distributions.c:144:18: warning: comparison between signed and unsigned integer expressions [-Wsign-compare]\n",
      "         if (rabs < ki_double[idx])\n",
      "                  ^\n",
      "../mt19937/srs/distributions.c: In function ‘gauss_zig_float’:\n",
      "../mt19937/srs/distributions.c:181:18: warning: comparison between signed and unsigned integer expressions [-Wsign-compare]\n",
      "         if (rabs < ki_float[idx])\n",
      "                  ^\n"
     ]
    }
   ],
   "source": [
    "%%bash\n",
    "cd cython_mcmc\n",
    "python ./setup.py develop"
   ]
  },
  {
   "cell_type": "code",
   "execution_count": 2,
   "metadata": {},
   "outputs": [],
   "source": [
    "from cython_mcmc import mcmc"
   ]
  },
  {
   "cell_type": "code",
   "execution_count": 4,
   "metadata": {
    "collapsed": true
   },
   "outputs": [],
   "source": [
    "import numpy as np"
   ]
  },
  {
   "cell_type": "code",
   "execution_count": 8,
   "metadata": {},
   "outputs": [],
   "source": [
    "np.random.seed(123)\n",
    "data = np.random.randn(20)"
   ]
  },
  {
   "cell_type": "code",
   "execution_count": 9,
   "metadata": {},
   "outputs": [
    {
     "name": "stdout",
     "output_type": "stream",
     "text": [
      "6.28 ms ± 143 µs per loop (mean ± std. dev. of 7 runs, 100 loops each)\n"
     ]
    }
   ],
   "source": [
    "%%timeit\n",
    "mcmc.log_sampler_cy_v3(data, samples=15000, mu_init=1.0)"
   ]
  },
  {
   "cell_type": "code",
   "execution_count": null,
   "metadata": {
    "collapsed": true
   },
   "outputs": [],
   "source": []
  }
 ],
 "metadata": {
  "kernelspec": {
   "display_name": "Python 3",
   "language": "python",
   "name": "python3"
  },
  "language_info": {
   "codemirror_mode": {
    "name": "ipython",
    "version": 3
   },
   "file_extension": ".py",
   "mimetype": "text/x-python",
   "name": "python",
   "nbconvert_exporter": "python",
   "pygments_lexer": "ipython3",
   "version": "3.6.1"
  }
 },
 "nbformat": 4,
 "nbformat_minor": 2
}
