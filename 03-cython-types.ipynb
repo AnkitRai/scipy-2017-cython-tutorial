{
 "cells": [
  {
   "cell_type": "markdown",
   "metadata": {},
   "source": [
    "## The Cython language\n",
    "\n",
    "* The Cython language is a superset of the Python language -- nearly any Python code is valid Cython code, with very few edge cases."
   ]
  },
  {
   "cell_type": "markdown",
   "metadata": {},
   "source": [
    "## Part 1: brief tour of Cython types\n",
    "\n",
    "* Dynamically typed variables are simply Cython `object` types; treated as dynamically typed and reference counted `PyObject` pointer objects at the C level.\n",
    "* Cython introduces the `cdef` keyword to declare a C-level construct.\n",
    "* Cython has other constructs--almost all beginning with `cdef`--to declare more complex C-only constructs."
   ]
  },
  {
   "cell_type": "markdown",
   "metadata": {},
   "source": [
    "## Simple types"
   ]
  },
  {
   "cell_type": "code",
   "execution_count": 12,
   "metadata": {},
   "outputs": [
    {
     "name": "stdout",
     "output_type": "stream",
     "text": [
      "The Cython extension is already loaded. To reload it, use:\n",
      "  %reload_ext Cython\n"
     ]
    }
   ],
   "source": [
    "%load_ext Cython"
   ]
  },
  {
   "cell_type": "code",
   "execution_count": 13,
   "metadata": {},
   "outputs": [],
   "source": [
    "%%cython\n",
    "\n",
    "# untyped objects are simply Python declarations like we know and love...\n",
    "o = 1\n",
    "print(o)\n",
    "\n",
    "# and can be reassigned to a different type...\n",
    "o = 'a'\n",
    "print(o)"
   ]
  },
  {
   "cell_type": "markdown",
   "metadata": {},
   "source": [
    "## Integral types"
   ]
  },
  {
   "cell_type": "code",
   "execution_count": 14,
   "metadata": {},
   "outputs": [],
   "source": [
    "%%cython\n",
    "\n",
    "# The panoply of C integer types...\n",
    "cdef:\n",
    "    int i = 0\n",
    "    unsigned long j = 1\n",
    "    signed short k = -3\n",
    "    long long ll = 1LL\n",
    "\n",
    "print(i, j, k, ll)"
   ]
  },
  {
   "cell_type": "markdown",
   "metadata": {},
   "source": [
    "### Cython enforces static typing (either compile time or runtime, depending)"
   ]
  },
  {
   "cell_type": "code",
   "execution_count": 15,
   "metadata": {},
   "outputs": [
    {
     "name": "stderr",
     "output_type": "stream",
     "text": [
      "\n",
      "Error compiling Cython file:\n",
      "------------------------------------------------------------\n",
      "...\n",
      "\n",
      "cdef int i = 0\n",
      "\n",
      "# ...\n",
      "\n",
      "i = 'qwerty'\n",
      "   ^\n",
      "------------------------------------------------------------\n",
      "\n",
      "/Users/kusmith/.ipython/cython/_cython_magic_913bc80a7df7ded79c2587d07ae49234.pyx:6:4: Unicode literals do not support coercion to C types other than Py_UNICODE/Py_UCS4 (for characters) or Py_UNICODE* (for strings).\n"
     ]
    }
   ],
   "source": [
    "%%cython\n",
    "\n",
    "cdef int i = 0\n",
    "\n",
    "# ...\n",
    "\n",
    "i = 'qwerty'"
   ]
  },
  {
   "cell_type": "markdown",
   "metadata": {},
   "source": [
    "## Floating point types"
   ]
  },
  {
   "cell_type": "code",
   "execution_count": 16,
   "metadata": {},
   "outputs": [],
   "source": [
    "%%cython\n",
    "\n",
    "cdef:\n",
    "    float a = 1.0\n",
    "    double b = -1.0\n",
    "    long double c = 1e100\n",
    "print(a, b, c)"
   ]
  },
  {
   "cell_type": "markdown",
   "metadata": {},
   "source": [
    "## Complex types"
   ]
  },
  {
   "cell_type": "code",
   "execution_count": 17,
   "metadata": {},
   "outputs": [],
   "source": [
    "%%cython\n",
    "\n",
    "cdef:\n",
    "    float complex fc = 1+1j\n",
    "    double complex dc = 1+1j\n",
    "    long double complex ldc = 1+1j\n",
    "\n",
    "print(fc, dc, ldc)\n",
    "print(fc.real, dc.imag, ldc.conjugate())"
   ]
  },
  {
   "cell_type": "markdown",
   "metadata": {},
   "source": [
    "## String types\n",
    "\n",
    "* Note that string types in Python are complicated by Py2 / Py3 differences.\n",
    "* This tutorial is entirely in Python 3, so we do not have to go into the minutiae here, which we declare to be out of scope.\n",
    "* See [the fine manual](http://cython.readthedocs.io/en/latest/src/tutorial/strings.html#python-string-types-in-cython-code) or [other documentation](http://shop.oreilly.com/product/0636920033431.do) for more details."
   ]
  },
  {
   "cell_type": "markdown",
   "metadata": {},
   "source": [
    "### Statically declaring Python string types in Cython"
   ]
  },
  {
   "cell_type": "code",
   "execution_count": 18,
   "metadata": {},
   "outputs": [],
   "source": [
    "%%cython\n",
    "\n",
    "cdef str s = \"asdf\"\n",
    "cdef bytes b = b\"jkl;\"\n",
    "print(s, b)"
   ]
  },
  {
   "cell_type": "markdown",
   "metadata": {},
   "source": [
    "##### Cython allows static declaration of Python types!"
   ]
  },
  {
   "cell_type": "markdown",
   "metadata": {},
   "source": [
    "### C \"string\"s"
   ]
  },
  {
   "cell_type": "code",
   "execution_count": 19,
   "metadata": {},
   "outputs": [],
   "source": [
    "%%cython\n",
    "\n",
    "bb = b\"asdf\"\n",
    "cdef char *buf = bb\n",
    "print(bb, buf)"
   ]
  },
  {
   "cell_type": "markdown",
   "metadata": {},
   "source": [
    "#### Pop quiz:\n",
    "\n",
    "* What can we infer from the (runtime) warning generated here?\n",
    "* When working with C-level strings, what must we keep in mind to maintain Python guarantees?\n",
    "\n",
    "It's often best to just work with `str` and `bytes` objects, rather than acquiring the underlying buffer pointer."
   ]
  },
  {
   "cell_type": "code",
   "execution_count": 20,
   "metadata": {},
   "outputs": [
    {
     "name": "stderr",
     "output_type": "stream",
     "text": [
      "\n",
      "Error compiling Cython file:\n",
      "------------------------------------------------------------\n",
      "...\n",
      "\n",
      "# Why is this very, very bad?\n",
      "a = b'a'\n",
      "b = b'b'\n",
      "cdef char *c = a + b\n",
      "    ^\n",
      "------------------------------------------------------------\n",
      "\n",
      "/Users/kusmith/.ipython/cython/_cython_magic_b4c4f60099ad1d9f809d701b234494c4.pyx:5:5: Storing unsafe C derivative of temporary Python reference\n"
     ]
    }
   ],
   "source": [
    "%%cython\n",
    "\n",
    "# Why is this very, very bad?\n",
    "a = b'a'\n",
    "b = b'b'\n",
    "cdef char *c = a + b\n",
    "\n",
    "# ...and how can we address it?\n",
    "\n",
    "# Again, it's best to avoid using char *'s \n",
    "# unless absolutely necessary -- keep your\n",
    "# Strings Python-level strings, and all will\n",
    "# be copacetic."
   ]
  },
  {
   "cell_type": "markdown",
   "metadata": {},
   "source": [
    "## Other statically-declarable Python types"
   ]
  },
  {
   "cell_type": "code",
   "execution_count": 21,
   "metadata": {},
   "outputs": [
    {
     "name": "stdout",
     "output_type": "stream",
     "text": [
      "[1] {'a': 'b'} {1} frozenset({1}) 2017-06-19 20:18:53.914916 array('i', [1, 2, 3])\n"
     ]
    }
   ],
   "source": [
    "%%cython\n",
    "\n",
    "import datetime\n",
    "cimport cpython.datetime # We'll cover the `cimport` keyword later\n",
    "\n",
    "import array\n",
    "cimport cpython.array\n",
    "\n",
    "cdef:\n",
    "    list lst = [1]\n",
    "    dict dd = {'a': 'b'}\n",
    "    set ss = set([1])\n",
    "    frozenset fs = frozenset([1])\n",
    "    cpython.datetime.datetime dt = datetime.datetime.now()\n",
    "    cpython.array.array aa = array.array('i', [1, 2, 3])\n",
    "    \n",
    "print(lst, dd, ss, fs, dt, aa)"
   ]
  },
  {
   "cell_type": "markdown",
   "metadata": {},
   "source": [
    "### Nota Bene:\n",
    "\n",
    "* Everything on the lhs of the declaration is a C-level, statically typed entity.\n",
    "* Everything on the RHS of the declaration is a Python object of the corresponding type.\n",
    "* Cython enforces static type checking for these objects."
   ]
  },
  {
   "cell_type": "markdown",
   "metadata": {},
   "source": [
    "## Declaring and manipulating pointers\n",
    "\n",
    "**NOTE** Only do this if you have to -- fortunately we rarely have to drop to using or manipulating pointers in Cython unless we're interfacing with a C library."
   ]
  },
  {
   "cell_type": "code",
   "execution_count": 22,
   "metadata": {},
   "outputs": [
    {
     "name": "stdout",
     "output_type": "stream",
     "text": [
      "42 42\n",
      "137 137\n"
     ]
    }
   ],
   "source": [
    "%%cython\n",
    "\n",
    "cdef:\n",
    "    int *a = NULL\n",
    "    int b = 42\n",
    "\n",
    "# Point `a` at `b`\n",
    "a = &b\n",
    "\n",
    "# Dereference `a` -- Note the use of `a[0]` -- we don't use `*a` to dereference!\n",
    "print(a[0], b)\n",
    "\n",
    "# Modify b via a:\n",
    "a[0] = 137\n",
    "\n",
    "# Confirm that both refer to same value:\n",
    "print(a[0], b)"
   ]
  },
  {
   "cell_type": "markdown",
   "metadata": {},
   "source": [
    "## Structs, Unions\n",
    "\n",
    "* Typically used to interface with C code; not typically used for Python-centric workflows."
   ]
  },
  {
   "cell_type": "code",
   "execution_count": 25,
   "metadata": {
    "collapsed": true
   },
   "outputs": [],
   "source": [
    "%%cython\n",
    "\n",
    "cdef struct s_t:\n",
    "    int i, j, k\n",
    "    float u, v, w\n",
    "    \n",
    "cdef s_t s"
   ]
  },
  {
   "cell_type": "code",
   "execution_count": null,
   "metadata": {
    "collapsed": true
   },
   "outputs": [],
   "source": []
  }
 ],
 "metadata": {
  "kernelspec": {
   "display_name": "Python 3",
   "language": "python",
   "name": "python3"
  },
  "language_info": {
   "codemirror_mode": {
    "name": "ipython",
    "version": 3
   },
   "file_extension": ".py",
   "mimetype": "text/x-python",
   "name": "python",
   "nbconvert_exporter": "python",
   "pygments_lexer": "ipython3",
   "version": "3.5.3"
  }
 },
 "nbformat": 4,
 "nbformat_minor": 2
}
